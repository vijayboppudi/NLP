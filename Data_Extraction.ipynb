{
 "cells": [
  {
   "cell_type": "markdown",
   "id": "545d2b58",
   "metadata": {},
   "source": [
    "# Extracting Data from document"
   ]
  },
  {
   "cell_type": "code",
   "execution_count": 20,
   "id": "62c5fb69",
   "metadata": {},
   "outputs": [],
   "source": [
    "from pdf2image import convert_from_path"
   ]
  },
  {
   "cell_type": "code",
   "execution_count": 34,
   "id": "9a336026",
   "metadata": {},
   "outputs": [],
   "source": [
    "pages = convert_from_path(r\"E:\\source-code\\4_project_medical_data_extraction\\backend\\resources\\prescription\\pre_1.pdf\", poppler_path=r\"E:\\poppler-23.01.0\\Library\\bin\")"
   ]
  },
  {
   "cell_type": "code",
   "execution_count": 37,
   "id": "8edff1ee",
   "metadata": {},
   "outputs": [],
   "source": [
    "pages[0].show()"
   ]
  },
  {
   "cell_type": "code",
   "execution_count": 39,
   "id": "7af1b092",
   "metadata": {},
   "outputs": [],
   "source": [
    "import pytesseract"
   ]
  },
  {
   "cell_type": "code",
   "execution_count": 40,
   "id": "f06c99df",
   "metadata": {},
   "outputs": [
    {
     "name": "stdout",
     "output_type": "stream",
     "text": [
      "Refill: 3 times\n",
      "\n",
      "\n"
     ]
    }
   ],
   "source": [
    "pytesseract.pytesseract.tesseract_cmd = r\"C:\\Program Files\\Tesseract-OCR\\tesseract.exe\"\n",
    "text = pytesseract.image_to_string(pages[0], lang='eng')\n",
    "print(text)"
   ]
  },
  {
   "cell_type": "code",
   "execution_count": 41,
   "id": "892ad431",
   "metadata": {},
   "outputs": [],
   "source": [
    "import cv2\n",
    "from PIL import Image"
   ]
  },
  {
   "cell_type": "code",
   "execution_count": 42,
   "id": "a0998e8b",
   "metadata": {},
   "outputs": [],
   "source": [
    "import numpy as np\n",
    "\n",
    "def preprocess_image(img):\n",
    "    gray = cv2.cvtColor(np.array(img), cv2.COLOR_BGR2GRAY)\n",
    "    resized = cv2.resize(gray, None, fx=1.5, fy=1.5, interpolation=cv2.INTER_LINEAR)\n",
    "    processed_image = cv2.adaptiveThreshold(\n",
    "       resized,\n",
    "       255,\n",
    "       cv2.ADAPTIVE_THRESH_GAUSSIAN_C,\n",
    "       cv2.THRESH_BINARY,\n",
    "       61,\n",
    "       11\n",
    "    )\n",
    "    return processed_image"
   ]
  },
  {
   "cell_type": "code",
   "execution_count": 43,
   "id": "46570fad",
   "metadata": {},
   "outputs": [],
   "source": [
    "img = preprocess_image(pages[0])\n",
    "Image.fromarray(img).show()"
   ]
  },
  {
   "cell_type": "code",
   "execution_count": 44,
   "id": "98fc3623",
   "metadata": {},
   "outputs": [
    {
     "name": "stdout",
     "output_type": "stream",
     "text": [
      "Dr John >mith, M.D\n",
      "\n",
      "2 Non-Important street,\n",
      "New York, Phone (900)-323- ~2222\n",
      "\n",
      "Name:  Virat Kohli Date: 2/05/2022\n",
      "\n",
      "Address: 2 cricket blvd, New Delhi\n",
      "\n",
      "| Omeprazole 40 mg\n",
      "\n",
      "Directions: Use two tablets daily for three months\n",
      "\n",
      "Refill: 3 times\n",
      "\n"
     ]
    }
   ],
   "source": [
    "pytesseract.pytesseract.tesseract_cmd = r\"C:\\Program Files\\Tesseract-OCR\\tesseract.exe\"\n",
    "text = pytesseract.image_to_string(img, lang='eng')\n",
    "print(text)"
   ]
  },
  {
   "cell_type": "code",
   "execution_count": 14,
   "id": "7fd2afcc",
   "metadata": {},
   "outputs": [],
   "source": [
    "import re"
   ]
  },
  {
   "cell_type": "code",
   "execution_count": 19,
   "id": "8e9159f8",
   "metadata": {},
   "outputs": [
    {
     "data": {
      "text/plain": [
       "'Birth Date\\n\\nKathy Crawford May 6 1972'"
      ]
     },
     "execution_count": 19,
     "metadata": {},
     "output_type": "execute_result"
    }
   ],
   "source": [
    "pattern = 'Patient Information(.*?)\\(\\d{3}\\)'\n",
    "match = re.findall(pattern, text, flags=re.DOTALL)\n",
    "match[0].strip()"
   ]
  },
  {
   "cell_type": "code",
   "execution_count": 25,
   "id": "1a29d683",
   "metadata": {},
   "outputs": [
    {
     "data": {
      "text/plain": [
       "'Kathy Crawford May 6 1972'"
      ]
     },
     "execution_count": 25,
     "metadata": {},
     "output_type": "execute_result"
    }
   ],
   "source": [
    "matches = match[0].replace(\"Birth Date\",\"\").strip()\n",
    "matches"
   ]
  },
  {
   "cell_type": "code",
   "execution_count": 30,
   "id": "d447ad49",
   "metadata": {},
   "outputs": [
    {
     "data": {
      "text/plain": [
       "'May 6 1972'"
      ]
     },
     "execution_count": 30,
     "metadata": {},
     "output_type": "execute_result"
    }
   ],
   "source": [
    "pattern = '((Jan|Feb|Mar|Apr|May|Jun|Jul|Aug|Sep|Oct|Nov|Dec)[ \\d]+)'\n",
    "date = re.findall(pattern, matches)\n",
    "date_1 = date[0][0]\n",
    "date_1"
   ]
  },
  {
   "cell_type": "code",
   "execution_count": 33,
   "id": "f86284ba",
   "metadata": {},
   "outputs": [
    {
     "data": {
      "text/plain": [
       "'Kathy Crawford'"
      ]
     },
     "execution_count": 33,
     "metadata": {},
     "output_type": "execute_result"
    }
   ],
   "source": [
    "matches.replace(date_1,'').strip()"
   ]
  },
  {
   "cell_type": "code",
   "execution_count": 39,
   "id": "6c07f01a",
   "metadata": {},
   "outputs": [],
   "source": [
    "def remove_noise_from_name(name):\n",
    "    name = name.replace(\"Birth Date\",\"\").strip()\n",
    "    date_pattern =  '((Jan|Feb|Mar|Apr|May|Jun|Jul|Aug|Sep|Oct|Nov|Dec)[ \\d]+)'\n",
    "    date = re.findall(date_pattern, name)\n",
    "    \n",
    "    if date:\n",
    "        date_1 = date[0][0]\n",
    "        name = name.replace(date_1,'').strip()\n",
    "        \n",
    "    return name"
   ]
  },
  {
   "cell_type": "code",
   "execution_count": 40,
   "id": "7296a2c3",
   "metadata": {},
   "outputs": [
    {
     "data": {
      "text/plain": [
       "'Kathy Crawford'"
      ]
     },
     "execution_count": 40,
     "metadata": {},
     "output_type": "execute_result"
    }
   ],
   "source": [
    "name = 'Birth Date\\n\\nKathy Crawford May 6 1972'\n",
    "name = remove_noise_from_name(name)\n",
    "name"
   ]
  },
  {
   "cell_type": "code",
   "execution_count": 43,
   "id": "0ae02c6f",
   "metadata": {},
   "outputs": [
    {
     "data": {
      "text/plain": [
       "[(' Birth Date\\n\\nKathy Crawford May 6 1972\\n\\n', '(737) 988-0851')]"
      ]
     },
     "execution_count": 43,
     "metadata": {},
     "output_type": "execute_result"
    }
   ],
   "source": [
    "pattern = 'Patient Information(.*?)(\\(\\d{3}\\) \\d{3}-\\d{4})'\n",
    "match = re.findall(pattern, text, flags=re.DOTALL)\n",
    "match"
   ]
  },
  {
   "cell_type": "code",
   "execution_count": 44,
   "id": "ac38f06f",
   "metadata": {},
   "outputs": [
    {
     "data": {
      "text/plain": [
       "'(737) 988-0851'"
      ]
     },
     "execution_count": 44,
     "metadata": {},
     "output_type": "execute_result"
    }
   ],
   "source": [
    "match[0][1]"
   ]
  },
  {
   "cell_type": "code",
   "execution_count": 45,
   "id": "bf4d5209",
   "metadata": {},
   "outputs": [
    {
     "data": {
      "text/plain": [
       "['No']"
      ]
     },
     "execution_count": 45,
     "metadata": {},
     "output_type": "execute_result"
    }
   ],
   "source": [
    "pattern = 'Have you had the Hepatitis B vaccination.*?(Yes|No)'\n",
    "match = re.findall(pattern, text, flags=re.DOTALL)\n",
    "match"
   ]
  },
  {
   "cell_type": "code",
   "execution_count": 47,
   "id": "53f786eb",
   "metadata": {},
   "outputs": [
    {
     "data": {
      "text/plain": [
       "'Migraine'"
      ]
     },
     "execution_count": 47,
     "metadata": {},
     "output_type": "execute_result"
    }
   ],
   "source": [
    "pattern = 'List any Medical Problems \\(asthma, seizures, headaches\\}:(.*)'\n",
    "match = re.findall(pattern, text, flags=re.DOTALL)\n",
    "match[0].strip()"
   ]
  },
  {
   "cell_type": "code",
   "execution_count": null,
   "id": "55fa6566",
   "metadata": {},
   "outputs": [],
   "source": []
  }
 ],
 "metadata": {
  "kernelspec": {
   "display_name": "Python 3 (ipykernel)",
   "language": "python",
   "name": "python3"
  },
  "language_info": {
   "codemirror_mode": {
    "name": "ipython",
    "version": 3
   },
   "file_extension": ".py",
   "mimetype": "text/x-python",
   "name": "python",
   "nbconvert_exporter": "python",
   "pygments_lexer": "ipython3",
   "version": "3.10.9"
  }
 },
 "nbformat": 4,
 "nbformat_minor": 5
}
